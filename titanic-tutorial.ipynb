{
 "cells": [
  {
   "cell_type": "markdown",
   "metadata": {},
   "source": [
    "Logging into Kaggle for the first time can be daunting. Our competitions often have large cash prizes, public leaderboards, and involve complex data. Nevertheless, we really think all data scientists can rapidly learn from machine learning competitions and meaningfully contribute to our community. To give you a clear understanding of how our platform works and a mental model of the type of learning you could do on Kaggle, we've created a Getting Started tutorial for the Titanic competition. It walks you through the initial steps required to get your first decent submission on the leaderboard. By the end of the tutorial, you'll also have a solid understanding of how to use Kaggle's online coding environment, where you'll have trained your own machine learning model.\n",
    "\n",
    "So if this is your first time entering a Kaggle competition, regardless of whether you:\n",
    "- have experience with handling large datasets,\n",
    "- haven't done much coding,\n",
    "- are newer to data science, or\n",
    "- are relatively experienced (but are just unfamiliar with Kaggle's platform),\n",
    "\n",
    "you're in the right place! \n",
    "\n",
    "# Part 1: Get started\n",
    "\n",
    "In this section, you'll learn more about the competition and make your first submission. \n",
    "\n",
    "## Join the competition!\n",
    "\n",
    "The first thing to do is to join the competition!  Open a new window with **[the competition page](https://www.kaggle.com/c/titanic)**, and click on the **\"Join Competition\"** button, if you haven't already.  (_If you see a \"Submit Predictions\" button instead of a \"Join Competition\" button, you have already joined the competition, and don't need to do so again._)\n",
    "\n",
    "![](https://i.imgur.com/07cskyU.png)\n",
    "\n",
    "This takes you to the rules acceptance page.  You must accept the competition rules in order to participate.  These rules govern how many submissions you can make per day, the maximum team size, and other competition-specific details.   Then, click on **\"I Understand and Accept\"** to indicate that you will abide by the competition rules.\n",
    "\n",
    "## The challenge\n",
    "\n",
    "The competition is simple: we want you to use the Titanic passenger data (name, age, price of ticket, etc) to try to predict who will survive and who will die.\n",
    "\n",
    "## The data\n",
    "\n",
    "To take a look at the competition data, click on the **<a href=\"https://www.kaggle.com/c/titanic/data\" target=\"_blank\" rel=\"noopener noreferrer\"><b>Data tab</b></a>** at the top of the competition page.  Then, scroll down to find the list of files.  \n",
    "There are three files in the data: (1) **train.csv**, (2) **test.csv**, and (3) **gender_submission.csv**.\n",
    "\n",
    "### (1) train.csv\n",
    "\n",
    "**train.csv** contains the details of a subset of the passengers on board (891 passengers, to be exact -- where each passenger gets a different row in the table).  To investigate this data, click on the name of the file on the left of the screen.  Once you've done this, you can view all of the data in the window.  \n",
    "\n",
    "![](https://i.imgur.com/cYsdt0n.png)\n",
    "\n",
    "The values in the second column (**\"Survived\"**) can be used to determine whether each passenger survived or not: \n",
    "- if it's a \"1\", the passenger survived.\n",
    "- if it's a \"0\", the passenger died.\n",
    "\n",
    "For instance, the first passenger listed in **train.csv** is Mr. Owen Harris Braund.  He was 22 years old when he died on the Titanic.\n",
    "\n",
    "### (2) test.csv\n",
    "\n",
    "Using the patterns you find in **train.csv**, you have to predict whether the other 418 passengers on board (in **test.csv**) survived.  \n",
    "\n",
    "Click on **test.csv** (on the left of the screen) to examine its contents.  Note that **test.csv** does not have a **\"Survived\"** column - this information is hidden from you, and how well you do at predicting these hidden values will determine how highly you score in the competition! \n",
    "\n",
    "### (3) gender_submission.csv\n",
    "\n",
    "The **gender_submission.csv** file is provided as an example that shows how you should structure your predictions.  It predicts that all female passengers survived, and all male passengers died.  Your hypotheses regarding survival will probably be different, which will lead to a different submission file.  But, just like this file, your submission should have:\n",
    "- a **\"PassengerId\"** column containing the IDs of each passenger from **test.csv**.\n",
    "- a **\"Survived\"** column (that you will create!) with a \"1\" for the rows where you think the passenger survived, and a \"0\" where you predict that the passenger died."
   ]
  },
  {
   "cell_type": "markdown",
   "metadata": {},
   "source": [
    "# Part 2: Your coding environment\n",
    "\n",
    "In this section, you'll train your own machine learning model to improve your predictions.  _If you've never written code before or don't have any experience with machine learning, don't worry!  We don't assume any prior experience in this tutorial._\n",
    "\n",
    "## The Notebook\n",
    "\n",
    "The first thing to do is to create a Kaggle Notebook where you'll store all of your code.  You can use Kaggle Notebooks to getting up and running with writing code quickly, and without having to install anything on your computer.  (_If you are interested in deep learning, we also offer free GPU access!_) \n",
    "\n",
    "Begin by clicking on the **<a href=\"https://www.kaggle.com/c/titanic/kernels\" target=\"_blank\">Code tab</a>** on the competition page.  Then, click on **\"New Notebook\"**.\n",
    "\n",
    "![](https://i.imgur.com/v2i82Xd.png)\n",
    "\n",
    "Your notebook will take a few seconds to load.  In the top left corner, you can see the name of your notebook -- something like **\"kernel2daed3cd79\"**.\n",
    "\n",
    "![](https://i.imgur.com/64ZFT1L.png)\n",
    "\n",
    "You can edit the name by clicking on it.  Change it to something more descriptive, like **\"Getting Started with Titanic\"**.  \n",
    "\n",
    "![](https://i.imgur.com/uwyvzXq.png)\n",
    "\n",
    "## Your first lines of code\n",
    "\n",
    "When you start a new notebook, it has two gray boxes for storing code.  We refer to these gray boxes as \"code cells\".\n",
    "\n",
    "![](https://i.imgur.com/q9mwkZM.png)\n",
    "\n",
    "The first code cell already has some code in it.  To run this code, put your cursor in the code cell.  (_If your cursor is in the right place, you'll notice a blue vertical line to the left of the gray box._)  Then, either hit the play button (which appears to the left of the blue line), or hit **[Shift] + [Enter]** on your keyboard.\n",
    "\n",
    "If the code runs successfully, three lines of output are returned.  Below, you can see the same code that you just ran, along with the output that you should see in your notebook."
   ]
  },
  {
   "cell_type": "code",
   "execution_count": 1,
   "metadata": {
    "_kg_hide-input": false,
    "execution": {
     "iopub.execute_input": "2024-02-29T14:17:24.310567Z",
     "iopub.status.busy": "2024-02-29T14:17:24.310279Z",
     "iopub.status.idle": "2024-02-29T14:17:24.325910Z",
     "shell.execute_reply": "2024-02-29T14:17:24.324656Z",
     "shell.execute_reply.started": "2024-02-29T14:17:24.310521Z"
    }
   },
   "outputs": [
    {
     "name": "stdout",
     "output_type": "stream",
     "text": [
      "/kaggle/input/titanic/train.csv\n",
      "/kaggle/input/titanic/test.csv\n",
      "/kaggle/input/titanic/gender_submission.csv\n"
     ]
    }
   ],
   "source": [
    "# This Python 3 environment comes with many helpful analytics libraries installed\n",
    "# It is defined by the kaggle/python docker image: https://github.com/kaggle/docker-python\n",
    "# For example, here's several helpful packages to load in \n",
    "\n",
    "import numpy as np # linear algebra\n",
    "import pandas as pd # data processing, CSV file I/O (e.g. pd.read_csv)\n",
    "\n",
    "# Input data files are available in the \"../input/\" directory.\n",
    "# For example, running this (by clicking run or pressing Shift+Enter) will list all files under the input directory\n",
    "\n",
    "import os\n",
    "for dirname, _, filenames in os.walk('/kaggle/input'):\n",
    "    for filename in filenames:\n",
    "        print(os.path.join(dirname, filename))\n",
    "\n",
    "# Any results you write to the current directory are saved as output."
   ]
  },
  {
   "cell_type": "markdown",
   "metadata": {},
   "source": [
    "This shows us where the competition data is stored, so that we can load the files into the notebook.  We'll do that next.\n",
    "\n",
    "## Load the data\n",
    "\n",
    "The second code cell in your notebook now appears below the three lines of output with the file locations.\n",
    "\n",
    "![](https://i.imgur.com/OQBax9n.png)\n",
    "\n",
    "Type the two lines of code below into your second code cell.  Then, once you're done, either click on the blue play button, or hit **[Shift] + [Enter]**.  "
   ]
  },
  {
   "cell_type": "code",
   "execution_count": 2,
   "metadata": {
    "execution": {
     "iopub.execute_input": "2024-02-29T14:17:24.328313Z",
     "iopub.status.busy": "2024-02-29T14:17:24.327981Z",
     "iopub.status.idle": "2024-02-29T14:17:24.353759Z",
     "shell.execute_reply": "2024-02-29T14:17:24.352461Z",
     "shell.execute_reply.started": "2024-02-29T14:17:24.328238Z"
    }
   },
   "outputs": [
    {
     "data": {
      "text/html": [
       "<div>\n",
       "<style scoped>\n",
       "    .dataframe tbody tr th:only-of-type {\n",
       "        vertical-align: middle;\n",
       "    }\n",
       "\n",
       "    .dataframe tbody tr th {\n",
       "        vertical-align: top;\n",
       "    }\n",
       "\n",
       "    .dataframe thead th {\n",
       "        text-align: right;\n",
       "    }\n",
       "</style>\n",
       "<table border=\"1\" class=\"dataframe\">\n",
       "  <thead>\n",
       "    <tr style=\"text-align: right;\">\n",
       "      <th></th>\n",
       "      <th>PassengerId</th>\n",
       "      <th>Survived</th>\n",
       "      <th>Pclass</th>\n",
       "      <th>Name</th>\n",
       "      <th>Sex</th>\n",
       "      <th>Age</th>\n",
       "      <th>SibSp</th>\n",
       "      <th>Parch</th>\n",
       "      <th>Ticket</th>\n",
       "      <th>Fare</th>\n",
       "      <th>Cabin</th>\n",
       "      <th>Embarked</th>\n",
       "    </tr>\n",
       "  </thead>\n",
       "  <tbody>\n",
       "    <tr>\n",
       "      <td>0</td>\n",
       "      <td>1</td>\n",
       "      <td>0</td>\n",
       "      <td>3</td>\n",
       "      <td>Braund, Mr. Owen Harris</td>\n",
       "      <td>male</td>\n",
       "      <td>22.0</td>\n",
       "      <td>1</td>\n",
       "      <td>0</td>\n",
       "      <td>A/5 21171</td>\n",
       "      <td>7.2500</td>\n",
       "      <td>NaN</td>\n",
       "      <td>S</td>\n",
       "    </tr>\n",
       "    <tr>\n",
       "      <td>1</td>\n",
       "      <td>2</td>\n",
       "      <td>1</td>\n",
       "      <td>1</td>\n",
       "      <td>Cumings, Mrs. John Bradley (Florence Briggs Th...</td>\n",
       "      <td>female</td>\n",
       "      <td>38.0</td>\n",
       "      <td>1</td>\n",
       "      <td>0</td>\n",
       "      <td>PC 17599</td>\n",
       "      <td>71.2833</td>\n",
       "      <td>C85</td>\n",
       "      <td>C</td>\n",
       "    </tr>\n",
       "    <tr>\n",
       "      <td>2</td>\n",
       "      <td>3</td>\n",
       "      <td>1</td>\n",
       "      <td>3</td>\n",
       "      <td>Heikkinen, Miss. Laina</td>\n",
       "      <td>female</td>\n",
       "      <td>26.0</td>\n",
       "      <td>0</td>\n",
       "      <td>0</td>\n",
       "      <td>STON/O2. 3101282</td>\n",
       "      <td>7.9250</td>\n",
       "      <td>NaN</td>\n",
       "      <td>S</td>\n",
       "    </tr>\n",
       "    <tr>\n",
       "      <td>3</td>\n",
       "      <td>4</td>\n",
       "      <td>1</td>\n",
       "      <td>1</td>\n",
       "      <td>Futrelle, Mrs. Jacques Heath (Lily May Peel)</td>\n",
       "      <td>female</td>\n",
       "      <td>35.0</td>\n",
       "      <td>1</td>\n",
       "      <td>0</td>\n",
       "      <td>113803</td>\n",
       "      <td>53.1000</td>\n",
       "      <td>C123</td>\n",
       "      <td>S</td>\n",
       "    </tr>\n",
       "    <tr>\n",
       "      <td>4</td>\n",
       "      <td>5</td>\n",
       "      <td>0</td>\n",
       "      <td>3</td>\n",
       "      <td>Allen, Mr. William Henry</td>\n",
       "      <td>male</td>\n",
       "      <td>35.0</td>\n",
       "      <td>0</td>\n",
       "      <td>0</td>\n",
       "      <td>373450</td>\n",
       "      <td>8.0500</td>\n",
       "      <td>NaN</td>\n",
       "      <td>S</td>\n",
       "    </tr>\n",
       "  </tbody>\n",
       "</table>\n",
       "</div>"
      ],
      "text/plain": [
       "   PassengerId  Survived  Pclass  \\\n",
       "0            1         0       3   \n",
       "1            2         1       1   \n",
       "2            3         1       3   \n",
       "3            4         1       1   \n",
       "4            5         0       3   \n",
       "\n",
       "                                                Name     Sex   Age  SibSp  \\\n",
       "0                            Braund, Mr. Owen Harris    male  22.0      1   \n",
       "1  Cumings, Mrs. John Bradley (Florence Briggs Th...  female  38.0      1   \n",
       "2                             Heikkinen, Miss. Laina  female  26.0      0   \n",
       "3       Futrelle, Mrs. Jacques Heath (Lily May Peel)  female  35.0      1   \n",
       "4                           Allen, Mr. William Henry    male  35.0      0   \n",
       "\n",
       "   Parch            Ticket     Fare Cabin Embarked  \n",
       "0      0         A/5 21171   7.2500   NaN        S  \n",
       "1      0          PC 17599  71.2833   C85        C  \n",
       "2      0  STON/O2. 3101282   7.9250   NaN        S  \n",
       "3      0            113803  53.1000  C123        S  \n",
       "4      0            373450   8.0500   NaN        S  "
      ]
     },
     "execution_count": 2,
     "metadata": {},
     "output_type": "execute_result"
    }
   ],
   "source": [
    "train_data = pd.read_csv(\"/kaggle/input/titanic/train.csv\")\n",
    "train_data.head()"
   ]
  },
  {
   "cell_type": "code",
   "execution_count": 3,
   "metadata": {
    "execution": {
     "iopub.execute_input": "2024-02-29T14:17:24.356872Z",
     "iopub.status.busy": "2024-02-29T14:17:24.356472Z",
     "iopub.status.idle": "2024-02-29T14:17:24.362947Z",
     "shell.execute_reply": "2024-02-29T14:17:24.361791Z",
     "shell.execute_reply.started": "2024-02-29T14:17:24.356805Z"
    }
   },
   "outputs": [
    {
     "name": "stdout",
     "output_type": "stream",
     "text": [
      "(891, 12)\n"
     ]
    }
   ],
   "source": [
    "print(train_data.shape)"
   ]
  },
  {
   "cell_type": "code",
   "execution_count": 4,
   "metadata": {
    "execution": {
     "iopub.execute_input": "2024-02-29T14:17:24.364869Z",
     "iopub.status.busy": "2024-02-29T14:17:24.364572Z",
     "iopub.status.idle": "2024-02-29T14:17:24.380730Z",
     "shell.execute_reply": "2024-02-29T14:17:24.379184Z",
     "shell.execute_reply.started": "2024-02-29T14:17:24.364822Z"
    }
   },
   "outputs": [
    {
     "name": "stdout",
     "output_type": "stream",
     "text": [
      "<class 'pandas.core.frame.DataFrame'>\n",
      "RangeIndex: 891 entries, 0 to 890\n",
      "Data columns (total 12 columns):\n",
      "PassengerId    891 non-null int64\n",
      "Survived       891 non-null int64\n",
      "Pclass         891 non-null int64\n",
      "Name           891 non-null object\n",
      "Sex            891 non-null object\n",
      "Age            714 non-null float64\n",
      "SibSp          891 non-null int64\n",
      "Parch          891 non-null int64\n",
      "Ticket         891 non-null object\n",
      "Fare           891 non-null float64\n",
      "Cabin          204 non-null object\n",
      "Embarked       889 non-null object\n",
      "dtypes: float64(2), int64(5), object(5)\n",
      "memory usage: 83.7+ KB\n"
     ]
    }
   ],
   "source": [
    "train_data.info() #obj 5개"
   ]
  },
  {
   "cell_type": "markdown",
   "metadata": {},
   "source": [
    "5개의 object 데이터에서 Name, Ticket, Cabin 3개의 데이터는 생존 여부와 관련 없으므로 삭제한다.<br>\n",
    "추가로 PassengerId 또한 같은 이유로 삭제 / Embarked는 세개의 출발지로 나눠 원핫 인코딩을 진행하여 전처리한다.<br>\n",
    "이는 train, test 데이터를 합친 후 진행한다"
   ]
  },
  {
   "cell_type": "code",
   "execution_count": 5,
   "metadata": {
    "execution": {
     "iopub.execute_input": "2024-02-29T14:17:24.382935Z",
     "iopub.status.busy": "2024-02-29T14:17:24.382546Z",
     "iopub.status.idle": "2024-02-29T14:17:24.394291Z",
     "shell.execute_reply": "2024-02-29T14:17:24.392900Z",
     "shell.execute_reply.started": "2024-02-29T14:17:24.382861Z"
    }
   },
   "outputs": [
    {
     "name": "stdout",
     "output_type": "stream",
     "text": [
      "train 데이터에서 177행 삭제\n"
     ]
    }
   ],
   "source": [
    "train_data = train_data.dropna(subset=['Age'])\n",
    "\n",
    "print(f\"train 데이터에서 {891-len(train_data)}행 삭제\")"
   ]
  },
  {
   "cell_type": "markdown",
   "metadata": {},
   "source": [
    "Your code should return the output above, which corresponds to the first five rows of the table in **train.csv**.  It's very important that you see this output **in your notebook** before proceeding with the tutorial!\n",
    "> _If your code does not produce this output_, double-check that your code is identical to the two lines above.  And, make sure your cursor is in the code cell before hitting **[Shift] + [Enter]**.\n",
    "\n",
    "The code that you've just written is in the Python programming language. It uses a Python \"module\" called **pandas** (abbreviated as `pd`) to load the table from the **train.csv** file into the notebook. To do this, we needed to plug in the location of the file (which we saw was `/kaggle/input/titanic/train.csv`).  \n",
    "> If you're not already familiar with Python (and pandas), the code shouldn't make sense to you -- but don't worry!  The point of this tutorial is to (quickly!) make your first submission to the competition.  At the end of the tutorial, we suggest resources to continue your learning.\n",
    "\n",
    "At this point, you should have at least three code cells in your notebook.  \n",
    "![](https://i.imgur.com/ReLhYca.png)\n",
    "\n",
    "Copy the code below into the third code cell of your notebook to load the contents of the **test.csv** file.  Don't forget to click on the play button (or hit **[Shift] + [Enter]**)!"
   ]
  },
  {
   "cell_type": "code",
   "execution_count": 6,
   "metadata": {
    "execution": {
     "iopub.execute_input": "2024-02-29T14:17:24.396187Z",
     "iopub.status.busy": "2024-02-29T14:17:24.395782Z",
     "iopub.status.idle": "2024-02-29T14:17:24.421363Z",
     "shell.execute_reply": "2024-02-29T14:17:24.419956Z",
     "shell.execute_reply.started": "2024-02-29T14:17:24.396010Z"
    }
   },
   "outputs": [
    {
     "data": {
      "text/html": [
       "<div>\n",
       "<style scoped>\n",
       "    .dataframe tbody tr th:only-of-type {\n",
       "        vertical-align: middle;\n",
       "    }\n",
       "\n",
       "    .dataframe tbody tr th {\n",
       "        vertical-align: top;\n",
       "    }\n",
       "\n",
       "    .dataframe thead th {\n",
       "        text-align: right;\n",
       "    }\n",
       "</style>\n",
       "<table border=\"1\" class=\"dataframe\">\n",
       "  <thead>\n",
       "    <tr style=\"text-align: right;\">\n",
       "      <th></th>\n",
       "      <th>PassengerId</th>\n",
       "      <th>Pclass</th>\n",
       "      <th>Name</th>\n",
       "      <th>Sex</th>\n",
       "      <th>Age</th>\n",
       "      <th>SibSp</th>\n",
       "      <th>Parch</th>\n",
       "      <th>Ticket</th>\n",
       "      <th>Fare</th>\n",
       "      <th>Cabin</th>\n",
       "      <th>Embarked</th>\n",
       "    </tr>\n",
       "  </thead>\n",
       "  <tbody>\n",
       "    <tr>\n",
       "      <td>0</td>\n",
       "      <td>892</td>\n",
       "      <td>3</td>\n",
       "      <td>Kelly, Mr. James</td>\n",
       "      <td>male</td>\n",
       "      <td>34.5</td>\n",
       "      <td>0</td>\n",
       "      <td>0</td>\n",
       "      <td>330911</td>\n",
       "      <td>7.8292</td>\n",
       "      <td>NaN</td>\n",
       "      <td>Q</td>\n",
       "    </tr>\n",
       "    <tr>\n",
       "      <td>1</td>\n",
       "      <td>893</td>\n",
       "      <td>3</td>\n",
       "      <td>Wilkes, Mrs. James (Ellen Needs)</td>\n",
       "      <td>female</td>\n",
       "      <td>47.0</td>\n",
       "      <td>1</td>\n",
       "      <td>0</td>\n",
       "      <td>363272</td>\n",
       "      <td>7.0000</td>\n",
       "      <td>NaN</td>\n",
       "      <td>S</td>\n",
       "    </tr>\n",
       "    <tr>\n",
       "      <td>2</td>\n",
       "      <td>894</td>\n",
       "      <td>2</td>\n",
       "      <td>Myles, Mr. Thomas Francis</td>\n",
       "      <td>male</td>\n",
       "      <td>62.0</td>\n",
       "      <td>0</td>\n",
       "      <td>0</td>\n",
       "      <td>240276</td>\n",
       "      <td>9.6875</td>\n",
       "      <td>NaN</td>\n",
       "      <td>Q</td>\n",
       "    </tr>\n",
       "    <tr>\n",
       "      <td>3</td>\n",
       "      <td>895</td>\n",
       "      <td>3</td>\n",
       "      <td>Wirz, Mr. Albert</td>\n",
       "      <td>male</td>\n",
       "      <td>27.0</td>\n",
       "      <td>0</td>\n",
       "      <td>0</td>\n",
       "      <td>315154</td>\n",
       "      <td>8.6625</td>\n",
       "      <td>NaN</td>\n",
       "      <td>S</td>\n",
       "    </tr>\n",
       "    <tr>\n",
       "      <td>4</td>\n",
       "      <td>896</td>\n",
       "      <td>3</td>\n",
       "      <td>Hirvonen, Mrs. Alexander (Helga E Lindqvist)</td>\n",
       "      <td>female</td>\n",
       "      <td>22.0</td>\n",
       "      <td>1</td>\n",
       "      <td>1</td>\n",
       "      <td>3101298</td>\n",
       "      <td>12.2875</td>\n",
       "      <td>NaN</td>\n",
       "      <td>S</td>\n",
       "    </tr>\n",
       "  </tbody>\n",
       "</table>\n",
       "</div>"
      ],
      "text/plain": [
       "   PassengerId  Pclass                                          Name     Sex  \\\n",
       "0          892       3                              Kelly, Mr. James    male   \n",
       "1          893       3              Wilkes, Mrs. James (Ellen Needs)  female   \n",
       "2          894       2                     Myles, Mr. Thomas Francis    male   \n",
       "3          895       3                              Wirz, Mr. Albert    male   \n",
       "4          896       3  Hirvonen, Mrs. Alexander (Helga E Lindqvist)  female   \n",
       "\n",
       "    Age  SibSp  Parch   Ticket     Fare Cabin Embarked  \n",
       "0  34.5      0      0   330911   7.8292   NaN        Q  \n",
       "1  47.0      1      0   363272   7.0000   NaN        S  \n",
       "2  62.0      0      0   240276   9.6875   NaN        Q  \n",
       "3  27.0      0      0   315154   8.6625   NaN        S  \n",
       "4  22.0      1      1  3101298  12.2875   NaN        S  "
      ]
     },
     "execution_count": 6,
     "metadata": {},
     "output_type": "execute_result"
    }
   ],
   "source": [
    "test_data = pd.read_csv(\"/kaggle/input/titanic/test.csv\")\n",
    "test_data.head()"
   ]
  },
  {
   "cell_type": "code",
   "execution_count": 7,
   "metadata": {
    "execution": {
     "iopub.execute_input": "2024-02-29T14:17:24.423574Z",
     "iopub.status.busy": "2024-02-29T14:17:24.423278Z",
     "iopub.status.idle": "2024-02-29T14:17:24.428930Z",
     "shell.execute_reply": "2024-02-29T14:17:24.428065Z",
     "shell.execute_reply.started": "2024-02-29T14:17:24.423514Z"
    }
   },
   "outputs": [
    {
     "name": "stdout",
     "output_type": "stream",
     "text": [
      "(418, 11)\n"
     ]
    }
   ],
   "source": [
    "print(test_data.shape)"
   ]
  },
  {
   "cell_type": "code",
   "execution_count": 8,
   "metadata": {
    "execution": {
     "iopub.execute_input": "2024-02-29T14:17:24.430743Z",
     "iopub.status.busy": "2024-02-29T14:17:24.430445Z",
     "iopub.status.idle": "2024-02-29T14:17:24.448770Z",
     "shell.execute_reply": "2024-02-29T14:17:24.447624Z",
     "shell.execute_reply.started": "2024-02-29T14:17:24.430692Z"
    }
   },
   "outputs": [
    {
     "name": "stdout",
     "output_type": "stream",
     "text": [
      "(714,)\n",
      "(1132, 11)\n"
     ]
    }
   ],
   "source": [
    "Ytrain= train_data.pop('Survived')\n",
    "\n",
    "all_data=pd.concat((train_data, test_data), axis=0)\n",
    "\n",
    "print(Ytrain.shape)\n",
    "print(all_data.shape)"
   ]
  },
  {
   "cell_type": "code",
   "execution_count": 9,
   "metadata": {
    "execution": {
     "iopub.execute_input": "2024-02-29T14:17:24.450234Z",
     "iopub.status.busy": "2024-02-29T14:17:24.449972Z",
     "iopub.status.idle": "2024-02-29T14:17:24.465445Z",
     "shell.execute_reply": "2024-02-29T14:17:24.464272Z",
     "shell.execute_reply.started": "2024-02-29T14:17:24.450185Z"
    }
   },
   "outputs": [
    {
     "name": "stdout",
     "output_type": "stream",
     "text": [
      "0.4061624649859944\n"
     ]
    }
   ],
   "source": [
    "print(Ytrain.sum()/714) #38%생존(train set에서만)"
   ]
  },
  {
   "cell_type": "code",
   "execution_count": 10,
   "metadata": {
    "execution": {
     "iopub.execute_input": "2024-02-29T14:17:24.513912Z",
     "iopub.status.busy": "2024-02-29T14:17:24.513551Z",
     "iopub.status.idle": "2024-02-29T14:17:24.523413Z",
     "shell.execute_reply": "2024-02-29T14:17:24.522084Z",
     "shell.execute_reply.started": "2024-02-29T14:17:24.513857Z"
    }
   },
   "outputs": [
    {
     "name": "stdout",
     "output_type": "stream",
     "text": [
      "(714, 11)\n",
      "(418, 11)\n"
     ]
    }
   ],
   "source": [
    "print(all_data[:714].shape) #train데이터\n",
    "print(all_data[714:].shape) #test데이터"
   ]
  },
  {
   "cell_type": "markdown",
   "metadata": {},
   "source": [
    "As before, make sure that you see the output above in your notebook before continuing.  \n",
    "\n",
    "Once all of the code runs successfully, all of the data (in **train.csv** and **test.csv**) is loaded in the notebook.  (_The code above shows only the first 5 rows of each table, but all of the data is there -- all 891 rows of **train.csv** and all 418 rows of **test.csv**!_)\n",
    "\n",
    "# Part 3: Your first submission\n",
    "\n",
    "Remember our goal: we want to find patterns in **train.csv** that help us predict whether the passengers in **test.csv** survived.\n",
    "\n",
    "It might initially feel overwhelming to look for patterns, when there's so much data to sort through.  So, we'll start simple.\n",
    "\n",
    "## Explore a pattern\n",
    "\n",
    "Remember that the sample submission file in **gender_submission.csv** assumes that all female passengers survived (and all male passengers died).  \n",
    "\n",
    "Is this a reasonable first guess?  We'll check if this pattern holds true in the data (in **train.csv**).\n",
    "\n",
    "Copy the code below into a new code cell.  Then, run the cell."
   ]
  },
  {
   "cell_type": "markdown",
   "metadata": {},
   "source": [
    "## 3. 전처리 및 결측치 처리 과정"
   ]
  },
  {
   "cell_type": "code",
   "execution_count": 11,
   "metadata": {
    "execution": {
     "iopub.execute_input": "2024-02-29T14:17:24.525535Z",
     "iopub.status.busy": "2024-02-29T14:17:24.525328Z",
     "iopub.status.idle": "2024-02-29T14:17:24.540863Z",
     "shell.execute_reply": "2024-02-29T14:17:24.539495Z",
     "shell.execute_reply.started": "2024-02-29T14:17:24.525505Z"
    }
   },
   "outputs": [
    {
     "name": "stdout",
     "output_type": "stream",
     "text": [
      "<class 'pandas.core.frame.DataFrame'>\n",
      "Int64Index: 1132 entries, 0 to 417\n",
      "Data columns (total 11 columns):\n",
      "PassengerId    1132 non-null int64\n",
      "Pclass         1132 non-null int64\n",
      "Name           1132 non-null object\n",
      "Sex            1132 non-null object\n",
      "Age            1046 non-null float64\n",
      "SibSp          1132 non-null int64\n",
      "Parch          1132 non-null int64\n",
      "Ticket         1132 non-null object\n",
      "Fare           1131 non-null float64\n",
      "Cabin          276 non-null object\n",
      "Embarked       1130 non-null object\n",
      "dtypes: float64(2), int64(4), object(5)\n",
      "memory usage: 106.1+ KB\n"
     ]
    }
   ],
   "source": [
    "all_data.info()"
   ]
  },
  {
   "cell_type": "markdown",
   "metadata": {},
   "source": [
    "5개의 object 데이터에서 Name, Ticket, Cabin 3개의 데이터는 생존 여부와 관련 없으므로 삭제한다.\n",
    "\n",
    "추가로 PassengerId 또한 같은 이유로 삭제 / \n",
    "\n",
    "Embarked는 세개의 출발지로 나눠 원핫 인코딩을 진행하여 전처리하려 했으나, 출발지는 딱히 영향을 미칠 것 같지 않으므로 삭제한다\n",
    "\n",
    "이는 train, test 데이터를 합친 후 진행한다"
   ]
  },
  {
   "cell_type": "code",
   "execution_count": 12,
   "metadata": {
    "execution": {
     "iopub.execute_input": "2024-02-29T14:17:24.542952Z",
     "iopub.status.busy": "2024-02-29T14:17:24.542627Z",
     "iopub.status.idle": "2024-02-29T14:17:24.550965Z",
     "shell.execute_reply": "2024-02-29T14:17:24.549987Z",
     "shell.execute_reply.started": "2024-02-29T14:17:24.542889Z"
    }
   },
   "outputs": [],
   "source": [
    "all_data['Sex'] = all_data['Sex'].replace({'male': 1, 'female': 0})"
   ]
  },
  {
   "cell_type": "code",
   "execution_count": 13,
   "metadata": {
    "execution": {
     "iopub.execute_input": "2024-02-29T14:17:24.552830Z",
     "iopub.status.busy": "2024-02-29T14:17:24.552484Z",
     "iopub.status.idle": "2024-02-29T14:17:24.568455Z",
     "shell.execute_reply": "2024-02-29T14:17:24.567487Z",
     "shell.execute_reply.started": "2024-02-29T14:17:24.552761Z"
    }
   },
   "outputs": [
    {
     "data": {
      "text/plain": [
       "(1132, 6)"
      ]
     },
     "execution_count": 13,
     "metadata": {},
     "output_type": "execute_result"
    }
   ],
   "source": [
    "all_data = all_data.drop(columns = ['PassengerId','Name','Ticket','Cabin','Embarked'])\n",
    "\n",
    "all_data.shape"
   ]
  },
  {
   "cell_type": "code",
   "execution_count": 14,
   "metadata": {
    "execution": {
     "iopub.execute_input": "2024-02-29T14:17:24.572049Z",
     "iopub.status.busy": "2024-02-29T14:17:24.571784Z",
     "iopub.status.idle": "2024-02-29T14:17:24.583508Z",
     "shell.execute_reply": "2024-02-29T14:17:24.582334Z",
     "shell.execute_reply.started": "2024-02-29T14:17:24.572002Z"
    }
   },
   "outputs": [
    {
     "name": "stdout",
     "output_type": "stream",
     "text": [
      "2\n"
     ]
    }
   ],
   "source": [
    "cols=list(all_data)\n",
    "for col in list(all_data):\n",
    "    if (all_data[col].isnull().sum())==0:\n",
    "        cols.remove(col)\n",
    "    else:\n",
    "        pass\n",
    "print(len(cols))"
   ]
  },
  {
   "cell_type": "code",
   "execution_count": 15,
   "metadata": {
    "execution": {
     "iopub.execute_input": "2024-02-29T14:17:24.586067Z",
     "iopub.status.busy": "2024-02-29T14:17:24.585739Z",
     "iopub.status.idle": "2024-02-29T14:17:24.597908Z",
     "shell.execute_reply": "2024-02-29T14:17:24.596477Z",
     "shell.execute_reply.started": "2024-02-29T14:17:24.586004Z"
    }
   },
   "outputs": [
    {
     "name": "stdout",
     "output_type": "stream",
     "text": [
      "['Age', 'Fare']\n"
     ]
    }
   ],
   "source": [
    "print(cols)"
   ]
  },
  {
   "cell_type": "code",
   "execution_count": 16,
   "metadata": {
    "execution": {
     "iopub.execute_input": "2024-02-29T14:17:24.599727Z",
     "iopub.status.busy": "2024-02-29T14:17:24.599423Z",
     "iopub.status.idle": "2024-02-29T14:17:24.617826Z",
     "shell.execute_reply": "2024-02-29T14:17:24.616476Z",
     "shell.execute_reply.started": "2024-02-29T14:17:24.599674Z"
    }
   },
   "outputs": [
    {
     "name": "stdout",
     "output_type": "stream",
     "text": [
      "Age에 대한 분석 결과\n",
      "count    1046.000000\n",
      "mean       29.881138\n",
      "std        14.413493\n",
      "min         0.170000\n",
      "25%        21.000000\n",
      "50%        28.000000\n",
      "75%        39.000000\n",
      "max        80.000000\n",
      "Name: Age, dtype: float64\n",
      "\n",
      "Fare에 대한 분석 결과\n",
      "count    1131.000000\n",
      "mean       35.038391\n",
      "std        54.017343\n",
      "min         0.000000\n",
      "25%         8.050000\n",
      "50%        15.033300\n",
      "75%        32.002050\n",
      "max       512.329200\n",
      "Name: Fare, dtype: float64\n",
      "\n"
     ]
    }
   ],
   "source": [
    "for i in cols:\n",
    "    print(f\"{i}에 대한 분석 결과\")\n",
    "    print(all_data[i].describe())\n",
    "    print(\"\")"
   ]
  },
  {
   "cell_type": "markdown",
   "metadata": {},
   "source": [
    "Age와 Fare 둘 다 중간값으로 넣으면 될 것 같다(50%)"
   ]
  },
  {
   "cell_type": "code",
   "execution_count": 17,
   "metadata": {
    "execution": {
     "iopub.execute_input": "2024-02-29T14:17:24.620075Z",
     "iopub.status.busy": "2024-02-29T14:17:24.619758Z",
     "iopub.status.idle": "2024-02-29T14:17:24.627997Z",
     "shell.execute_reply": "2024-02-29T14:17:24.626494Z",
     "shell.execute_reply.started": "2024-02-29T14:17:24.620018Z"
    }
   },
   "outputs": [
    {
     "data": {
      "text/plain": [
       "15.0333"
      ]
     },
     "execution_count": 17,
     "metadata": {},
     "output_type": "execute_result"
    }
   ],
   "source": [
    "all_data['Age'].median()\n",
    "all_data['Fare'].median()"
   ]
  },
  {
   "cell_type": "code",
   "execution_count": 18,
   "metadata": {
    "execution": {
     "iopub.execute_input": "2024-02-29T14:17:24.629305Z",
     "iopub.status.busy": "2024-02-29T14:17:24.629082Z",
     "iopub.status.idle": "2024-02-29T14:17:24.642405Z",
     "shell.execute_reply": "2024-02-29T14:17:24.641291Z",
     "shell.execute_reply.started": "2024-02-29T14:17:24.629271Z"
    }
   },
   "outputs": [
    {
     "name": "stdout",
     "output_type": "stream",
     "text": [
      "Total count of missing values in all_data : 0\n"
     ]
    }
   ],
   "source": [
    "for col in (cols):\n",
    "    if col == \"Age\":\n",
    "        all_data[col] = all_data[col].fillna(all_data[col].mean())\n",
    "    else:\n",
    "        all_data[col] = all_data[col].fillna(all_data[col].median())\n",
    "    \n",
    "    \n",
    "print(f\"Total count of missing values in all_data : {all_data.isnull().sum().sum()}\")"
   ]
  },
  {
   "cell_type": "code",
   "execution_count": 19,
   "metadata": {
    "execution": {
     "iopub.execute_input": "2024-02-29T14:17:24.644413Z",
     "iopub.status.busy": "2024-02-29T14:17:24.644108Z",
     "iopub.status.idle": "2024-02-29T14:17:24.655756Z",
     "shell.execute_reply": "2024-02-29T14:17:24.654407Z",
     "shell.execute_reply.started": "2024-02-29T14:17:24.644365Z"
    }
   },
   "outputs": [],
   "source": [
    "# clean_train = all_data[:891].dropna(subset=['Age'])\n",
    "\n",
    "# print(f\"train 데이터에서 {len(train_data)-len(clean_train)}행 삭제\")"
   ]
  },
  {
   "cell_type": "code",
   "execution_count": 20,
   "metadata": {
    "execution": {
     "iopub.execute_input": "2024-02-29T14:17:24.657431Z",
     "iopub.status.busy": "2024-02-29T14:17:24.657048Z",
     "iopub.status.idle": "2024-02-29T14:17:24.666836Z",
     "shell.execute_reply": "2024-02-29T14:17:24.665721Z",
     "shell.execute_reply.started": "2024-02-29T14:17:24.657372Z"
    }
   },
   "outputs": [],
   "source": [
    "# print(len(clean_train))"
   ]
  },
  {
   "cell_type": "code",
   "execution_count": 21,
   "metadata": {
    "execution": {
     "iopub.execute_input": "2024-02-29T14:17:24.668367Z",
     "iopub.status.busy": "2024-02-29T14:17:24.668106Z",
     "iopub.status.idle": "2024-02-29T14:17:24.680006Z",
     "shell.execute_reply": "2024-02-29T14:17:24.679047Z",
     "shell.execute_reply.started": "2024-02-29T14:17:24.668326Z"
    }
   },
   "outputs": [],
   "source": [
    "# # print(all_data[891:].shape) #test데이터\n",
    "# # 기존 test데이터와 결측치행을 삭제한 train 데이터셋 병합\n",
    "\n",
    "# all_data = pd.concat((clean_train, all_data[891:]), axis=0)\n",
    "# print(len(all_data))"
   ]
  },
  {
   "cell_type": "code",
   "execution_count": 22,
   "metadata": {
    "execution": {
     "iopub.execute_input": "2024-02-29T14:17:24.681157Z",
     "iopub.status.busy": "2024-02-29T14:17:24.680967Z",
     "iopub.status.idle": "2024-02-29T14:17:24.692622Z",
     "shell.execute_reply": "2024-02-29T14:17:24.691517Z",
     "shell.execute_reply.started": "2024-02-29T14:17:24.681125Z"
    }
   },
   "outputs": [],
   "source": [
    "# print(len(all_data[:714])) #train데이터\n",
    "# print(len(all_data[714:])) #test데이터"
   ]
  },
  {
   "cell_type": "code",
   "execution_count": 23,
   "metadata": {
    "execution": {
     "iopub.execute_input": "2024-02-29T14:17:24.694077Z",
     "iopub.status.busy": "2024-02-29T14:17:24.693799Z",
     "iopub.status.idle": "2024-02-29T14:17:24.705161Z",
     "shell.execute_reply": "2024-02-29T14:17:24.703501Z",
     "shell.execute_reply.started": "2024-02-29T14:17:24.694023Z"
    },
    "scrolled": true
   },
   "outputs": [],
   "source": [
    "# women = train_data.loc[train_data.Sex == 'female'][\"Survived\"]\n",
    "# rate_women = sum(women)/len(women)\n",
    "\n",
    "# print(\"% of women who survived:\", rate_women)"
   ]
  },
  {
   "cell_type": "markdown",
   "metadata": {},
   "source": [
    "Before moving on, make sure that your code returns the output above.  The code above calculates the percentage of female passengers (in **train.csv**) who survived.\n",
    "\n",
    "Then, run the code below in another code cell:"
   ]
  },
  {
   "cell_type": "code",
   "execution_count": 24,
   "metadata": {
    "execution": {
     "iopub.execute_input": "2024-02-29T14:17:24.706984Z",
     "iopub.status.busy": "2024-02-29T14:17:24.706731Z",
     "iopub.status.idle": "2024-02-29T14:17:24.718396Z",
     "shell.execute_reply": "2024-02-29T14:17:24.717387Z",
     "shell.execute_reply.started": "2024-02-29T14:17:24.706942Z"
    }
   },
   "outputs": [],
   "source": [
    "# men = train_data.loc[train_data.Sex == 'male'][\"Survived\"]\n",
    "# rate_men = sum(men)/len(men)\n",
    "\n",
    "# print(\"% of men who survived:\", rate_men)"
   ]
  },
  {
   "cell_type": "markdown",
   "metadata": {},
   "source": [
    "The code above calculates the percentage of male passengers (in **train.csv**) who survived.\n",
    "\n",
    "From this you can see that almost 75% of the women on board survived, whereas only 19% of the men lived to tell about it. Since gender seems to be such a strong indicator of survival, the submission file in **gender_submission.csv** is not a bad first guess!\n",
    "\n",
    "But at the end of the day, this gender-based submission bases its predictions on only a single column.  As you can imagine, by considering multiple columns, we can discover more complex patterns that can potentially yield better-informed predictions.  Since it is quite difficult to consider several columns at once (or, it would take a long time to consider all possible patterns in many different columns simultaneously), we'll use machine learning to automate this for us.\n",
    "\n",
    "## Your first machine learning model\n",
    "\n",
    "We'll build what's known as a **random forest model**.  This model is constructed of several \"trees\" (there are three trees in the picture below, but we'll construct 100!) that will individually consider each passenger's data and vote on whether the individual survived.  Then, the random forest model makes a democratic decision: the outcome with the most votes wins!\n",
    "\n",
    "![](https://i.imgur.com/AC9Bq63.png)\n",
    "\n",
    "The code cell below looks for patterns in four different columns (**\"Pclass\"**, **\"Sex\"**, **\"SibSp\"**, and **\"Parch\"**) of the data.  It constructs the trees in the random forest model based on patterns in the **train.csv** file, before generating predictions for the passengers in **test.csv**.  The code also saves these new predictions in a CSV file **submission.csv**.\n",
    "\n",
    "Copy this code into your notebook, and run it in a new code cell."
   ]
  },
  {
   "cell_type": "code",
   "execution_count": 25,
   "metadata": {
    "_kg_hide-output": false,
    "execution": {
     "iopub.execute_input": "2024-02-29T14:17:24.720045Z",
     "iopub.status.busy": "2024-02-29T14:17:24.719578Z",
     "iopub.status.idle": "2024-02-29T14:17:24.730933Z",
     "shell.execute_reply": "2024-02-29T14:17:24.729637Z",
     "shell.execute_reply.started": "2024-02-29T14:17:24.720001Z"
    }
   },
   "outputs": [],
   "source": [
    "# from sklearn.ensemble import RandomForestClassifier\n",
    "\n",
    "# y = train_data[\"Survived\"]\n",
    "\n",
    "# features = [\"Pclass\", \"Sex\", \"SibSp\", \"Parch\"]\n",
    "# X = pd.get_dummies(train_data[features])\n",
    "# X_test = pd.get_dummies(test_data[features])\n",
    "\n",
    "# model = RandomForestClassifier(n_estimators=100, max_depth=5, random_state=1)\n",
    "# model.fit(X, y)\n",
    "# predictions = model.predict(X_test)\n",
    "\n",
    "# output = pd.DataFrame({'PassengerId': test_data.PassengerId, 'Survived': predictions})\n",
    "# output.to_csv('submission.csv', index=False)\n",
    "# print(\"Your submission was successfully saved!\")"
   ]
  },
  {
   "cell_type": "code",
   "execution_count": 26,
   "metadata": {
    "execution": {
     "iopub.execute_input": "2024-02-29T14:17:24.732443Z",
     "iopub.status.busy": "2024-02-29T14:17:24.732072Z",
     "iopub.status.idle": "2024-02-29T14:17:24.743359Z",
     "shell.execute_reply": "2024-02-29T14:17:24.742098Z",
     "shell.execute_reply.started": "2024-02-29T14:17:24.732300Z"
    }
   },
   "outputs": [
    {
     "name": "stdout",
     "output_type": "stream",
     "text": [
      "(1132, 6)\n"
     ]
    }
   ],
   "source": [
    "print(all_data.shape)"
   ]
  },
  {
   "cell_type": "code",
   "execution_count": 27,
   "metadata": {
    "execution": {
     "iopub.execute_input": "2024-02-29T14:17:24.745005Z",
     "iopub.status.busy": "2024-02-29T14:17:24.744644Z",
     "iopub.status.idle": "2024-02-29T14:17:24.754434Z",
     "shell.execute_reply": "2024-02-29T14:17:24.753161Z",
     "shell.execute_reply.started": "2024-02-29T14:17:24.744966Z"
    }
   },
   "outputs": [],
   "source": [
    "Xtrain = all_data[:714] #train데이터\n",
    "Xtest = all_data[714:]  #test데이터"
   ]
  },
  {
   "cell_type": "code",
   "execution_count": 28,
   "metadata": {
    "execution": {
     "iopub.execute_input": "2024-02-29T14:17:24.756143Z",
     "iopub.status.busy": "2024-02-29T14:17:24.755701Z",
     "iopub.status.idle": "2024-02-29T14:17:24.772291Z",
     "shell.execute_reply": "2024-02-29T14:17:24.771237Z",
     "shell.execute_reply.started": "2024-02-29T14:17:24.756100Z"
    }
   },
   "outputs": [
    {
     "name": "stdout",
     "output_type": "stream",
     "text": [
      "     Pclass  Sex        Age  SibSp  Parch      Fare\n",
      "0         3    1  22.000000      1      0    7.2500\n",
      "1         1    0  38.000000      1      0   71.2833\n",
      "2         3    0  26.000000      0      0    7.9250\n",
      "3         1    0  35.000000      1      0   53.1000\n",
      "4         3    1  35.000000      0      0    8.0500\n",
      "..      ...  ...        ...    ...    ...       ...\n",
      "413       3    1  29.881138      0      0    8.0500\n",
      "414       1    0  39.000000      0      0  108.9000\n",
      "415       3    1  38.500000      0      0    7.2500\n",
      "416       3    1  29.881138      0      0    8.0500\n",
      "417       3    1  29.881138      1      1   22.3583\n",
      "\n",
      "[1132 rows x 6 columns]\n"
     ]
    }
   ],
   "source": [
    "print(all_data)"
   ]
  },
  {
   "cell_type": "code",
   "execution_count": 29,
   "metadata": {
    "execution": {
     "iopub.execute_input": "2024-02-29T14:17:24.775502Z",
     "iopub.status.busy": "2024-02-29T14:17:24.775001Z",
     "iopub.status.idle": "2024-02-29T14:17:25.107306Z",
     "shell.execute_reply": "2024-02-29T14:17:25.106273Z",
     "shell.execute_reply.started": "2024-02-29T14:17:24.775442Z"
    }
   },
   "outputs": [
    {
     "name": "stderr",
     "output_type": "stream",
     "text": [
      "/opt/conda/lib/python3.6/site-packages/xgboost/core.py:587: FutureWarning: Series.base is deprecated and will be removed in a future version\n",
      "  if getattr(data, 'base', None) is not None and \\\n",
      "/opt/conda/lib/python3.6/site-packages/xgboost/core.py:588: FutureWarning: Series.base is deprecated and will be removed in a future version\n",
      "  data.base is not None and isinstance(data, np.ndarray) \\\n"
     ]
    }
   ],
   "source": [
    "from xgboost import XGBRegressor\n",
    "\n",
    "\n",
    "\n",
    "model_XGB=XGBRegressor(    \n",
    "    learning_rate=0.02, n_estimators=600, objective='binary:logistic', silent=True, nthread=1,\n",
    "#     objective='binary:logistic',  # 이진 분류 로지스틱 회귀\n",
    "#     eval_metric='error',           # 오분류 오차를 평가 지표로 설정\n",
    "    min_child_weight = 1,\n",
    "    gamma = 1,\n",
    "    max_depth=5,                   # 트리의 최대 깊이\n",
    "#     learning_rate=0.1,             # 학습률\n",
    "#     n_estimators=100,              # 트리의 개수\n",
    "    subsample=0.9,                 # 훈련 데이터의 샘플링 비율\n",
    "    colsample_bytree=1.0,          # 트리를 만들 때 특성을 샘플링하는 비율\n",
    "#     random_state=42                # 재현 가능성을 위한 랜덤 시드 설정\n",
    ")\n",
    "model_XGB.fit(Xtrain, Ytrain)\n",
    "XGB_predictions=model_XGB.predict(Xtest)\n",
    "train_XGB=model_XGB.predict(Xtrain)"
   ]
  },
  {
   "cell_type": "code",
   "execution_count": 30,
   "metadata": {
    "execution": {
     "iopub.execute_input": "2024-02-29T14:17:25.108882Z",
     "iopub.status.busy": "2024-02-29T14:17:25.108639Z",
     "iopub.status.idle": "2024-02-29T14:17:25.112719Z",
     "shell.execute_reply": "2024-02-29T14:17:25.111652Z",
     "shell.execute_reply.started": "2024-02-29T14:17:25.108834Z"
    }
   },
   "outputs": [],
   "source": [
    "# # print(train_XGB)\n",
    "# # print(np.round(train_XGB[:10], 3))\n",
    "# train_preds = [1 if x>0.5 else 0 for x in train_XGB]\n",
    "# print(train_preds)\n",
    "\n",
    "# #train데이터의 행을 삭제했기 때문에 오류가 발생할 수도 있음"
   ]
  },
  {
   "cell_type": "code",
   "execution_count": 31,
   "metadata": {
    "execution": {
     "iopub.execute_input": "2024-02-29T14:17:25.114440Z",
     "iopub.status.busy": "2024-02-29T14:17:25.114025Z",
     "iopub.status.idle": "2024-02-29T14:17:25.128197Z",
     "shell.execute_reply": "2024-02-29T14:17:25.126789Z",
     "shell.execute_reply.started": "2024-02-29T14:17:25.114401Z"
    }
   },
   "outputs": [],
   "source": [
    "# a=0\n",
    "# for i in range(len(train_preds)):\n",
    "#     if Ytrain[i] != train_preds[i]:\n",
    "#         a+=1\n",
    "\n",
    "# print(f\"두 모델이 다르게 예측한 수는 : {a}\") #144개(예측이 나름 많이 다름)"
   ]
  },
  {
   "cell_type": "code",
   "execution_count": 32,
   "metadata": {
    "execution": {
     "iopub.execute_input": "2024-02-29T14:17:25.130247Z",
     "iopub.status.busy": "2024-02-29T14:17:25.129988Z",
     "iopub.status.idle": "2024-02-29T14:17:25.145267Z",
     "shell.execute_reply": "2024-02-29T14:17:25.143808Z",
     "shell.execute_reply.started": "2024-02-29T14:17:25.130197Z"
    }
   },
   "outputs": [
    {
     "name": "stdout",
     "output_type": "stream",
     "text": [
      "[0, 0, 0, 0, 0, 0, 0, 0, 1, 0, 0, 0, 1, 0, 1, 1, 0, 0, 0, 0, 0, 1, 1, 0, 1, 0, 1, 0, 1, 0, 0, 0, 1, 0, 1, 0, 0, 0, 0, 0, 0, 1, 0, 1, 1, 0, 0, 0, 1, 1, 0, 0, 1, 1, 0, 0, 0, 0, 0, 1, 0, 0, 0, 1, 0, 1, 1, 0, 0, 1, 1, 0, 1, 0, 1, 1, 0, 1, 0, 1, 1, 0, 0, 0, 0, 0, 1, 1, 0, 1, 0, 0, 1, 0, 1, 0, 1, 0, 1, 0, 1, 0, 0, 0, 1, 0, 0, 0, 0, 0, 0, 0, 1, 1, 1, 0, 0, 1, 1, 1, 1, 0, 1, 0, 0, 1, 0, 0, 0, 0, 0, 0, 0, 0, 0, 0, 1, 0, 0, 0, 0, 1, 0, 0, 1, 0, 0, 0, 1, 0, 1, 0, 0, 1, 0, 0, 1, 0, 1, 1, 0, 1, 1, 0, 0, 0, 0, 0, 1, 0, 0, 1, 0, 0, 0, 1, 1, 0, 1, 1, 0, 0, 1, 0, 1, 0, 1, 0, 0, 0, 0, 1, 0, 0, 1, 0, 1, 0, 0, 0, 0, 1, 0, 1, 0, 0, 0, 0, 1, 0, 0, 0, 0, 1, 0, 0, 0, 0, 1, 0, 1, 0, 1, 0, 1, 1, 0, 0, 0, 0, 0, 1, 0, 0, 0, 0, 0, 0, 1, 1, 1, 1, 0, 0, 0, 0, 1, 0, 1, 0, 1, 0, 0, 0, 0, 0, 0, 0, 1, 0, 0, 0, 1, 1, 0, 0, 0, 0, 0, 0, 0, 0, 1, 0, 0, 1, 0, 0, 0, 0, 0, 1, 0, 0, 1, 0, 0, 0, 0, 0, 0, 0, 0, 0, 0, 0, 1, 0, 0, 0, 0, 0, 0, 0, 0, 1, 0, 1, 0, 0, 0, 0, 0, 0, 1, 1, 0, 0, 0, 0, 0, 0, 0, 1, 1, 0, 1, 0, 0, 0, 1, 0, 0, 1, 0, 1, 0, 0, 0, 0, 0, 0, 0, 1, 0, 1, 0, 0, 0, 1, 1, 0, 0, 0, 1, 0, 1, 0, 0, 0, 0, 1, 1, 0, 1, 0, 0, 0, 1, 0, 0, 1, 0, 0, 1, 1, 0, 0, 0, 0, 0, 0, 0, 0, 0, 1, 0, 0, 0, 0, 0, 1, 0, 0, 0, 1, 0, 1, 0, 0, 1, 0, 1, 0, 0, 0, 0, 0, 0, 1, 0, 1, 0, 0, 1, 0, 0, 0]\n"
     ]
    }
   ],
   "source": [
    "preds = [1 if x>0.5 else 0 for x in XGB_predictions]\n",
    "print(preds)"
   ]
  },
  {
   "cell_type": "code",
   "execution_count": 33,
   "metadata": {
    "execution": {
     "iopub.execute_input": "2024-02-29T14:17:25.148473Z",
     "iopub.status.busy": "2024-02-29T14:17:25.147923Z",
     "iopub.status.idle": "2024-02-29T14:17:25.157709Z",
     "shell.execute_reply": "2024-02-29T14:17:25.156154Z",
     "shell.execute_reply.started": "2024-02-29T14:17:25.148303Z"
    }
   },
   "outputs": [],
   "source": [
    "# print(XGB_predictions)"
   ]
  },
  {
   "cell_type": "code",
   "execution_count": 34,
   "metadata": {
    "execution": {
     "iopub.execute_input": "2024-02-29T14:17:25.159731Z",
     "iopub.status.busy": "2024-02-29T14:17:25.159373Z",
     "iopub.status.idle": "2024-02-29T14:17:25.169966Z",
     "shell.execute_reply": "2024-02-29T14:17:25.168888Z",
     "shell.execute_reply.started": "2024-02-29T14:17:25.159665Z"
    }
   },
   "outputs": [],
   "source": [
    "# print(abc)"
   ]
  },
  {
   "cell_type": "code",
   "execution_count": 35,
   "metadata": {
    "execution": {
     "iopub.execute_input": "2024-02-29T14:17:25.171910Z",
     "iopub.status.busy": "2024-02-29T14:17:25.171509Z",
     "iopub.status.idle": "2024-02-29T14:17:25.189219Z",
     "shell.execute_reply": "2024-02-29T14:17:25.188640Z",
     "shell.execute_reply.started": "2024-02-29T14:17:25.171851Z"
    }
   },
   "outputs": [
    {
     "name": "stdout",
     "output_type": "stream",
     "text": [
      "     PassengerId  Survived\n",
      "0            892         0\n",
      "1            893         1\n",
      "2            894         0\n",
      "3            895         0\n",
      "4            896         1\n",
      "..           ...       ...\n",
      "413         1305         0\n",
      "414         1306         1\n",
      "415         1307         0\n",
      "416         1308         0\n",
      "417         1309         0\n",
      "\n",
      "[418 rows x 2 columns]\n"
     ]
    }
   ],
   "source": [
    "submission = pd.read_csv(\"/kaggle/input/titanic/gender_submission.csv\")\n",
    "print(submission)"
   ]
  },
  {
   "cell_type": "code",
   "execution_count": 36,
   "metadata": {
    "execution": {
     "iopub.execute_input": "2024-02-29T14:17:25.190853Z",
     "iopub.status.busy": "2024-02-29T14:17:25.190479Z",
     "iopub.status.idle": "2024-02-29T14:17:25.203089Z",
     "shell.execute_reply": "2024-02-29T14:17:25.201817Z",
     "shell.execute_reply.started": "2024-02-29T14:17:25.190813Z"
    }
   },
   "outputs": [
    {
     "name": "stdout",
     "output_type": "stream",
     "text": [
      "두 모델이 다르게 예측한 수는 : 70\n"
     ]
    }
   ],
   "source": [
    "a=0\n",
    "for i in range(len(preds)):\n",
    "    if submission[\"Survived\"][i] != preds[i]:\n",
    "        a+=1\n",
    "\n",
    "print(f\"두 모델이 다르게 예측한 수는 : {a}\") #18개(예측이 많이 다르진 않음)\n",
    "\n",
    "#추가 전처리 후 27개로 더 많이 다르게 예측함\n",
    "\n",
    "#xgboost 하이퍼파라미터 조정 후 다르게 예측한 수는 63으로 눈에 띄게 달라짐\n",
    "#다시 조정 후 55\n",
    "\n",
    "#추가 조정 후: 70"
   ]
  },
  {
   "cell_type": "code",
   "execution_count": 37,
   "metadata": {
    "execution": {
     "iopub.execute_input": "2024-02-29T14:17:25.205518Z",
     "iopub.status.busy": "2024-02-29T14:17:25.205225Z",
     "iopub.status.idle": "2024-02-29T14:17:25.216030Z",
     "shell.execute_reply": "2024-02-29T14:17:25.214556Z",
     "shell.execute_reply.started": "2024-02-29T14:17:25.205470Z"
    }
   },
   "outputs": [],
   "source": [
    "submission[\"Survived\"] = preds"
   ]
  },
  {
   "cell_type": "code",
   "execution_count": 38,
   "metadata": {
    "execution": {
     "iopub.execute_input": "2024-02-29T14:17:25.217802Z",
     "iopub.status.busy": "2024-02-29T14:17:25.217393Z",
     "iopub.status.idle": "2024-02-29T14:17:25.230217Z",
     "shell.execute_reply": "2024-02-29T14:17:25.228884Z",
     "shell.execute_reply.started": "2024-02-29T14:17:25.217758Z"
    }
   },
   "outputs": [
    {
     "name": "stdout",
     "output_type": "stream",
     "text": [
      "     PassengerId  Survived\n",
      "0            892         0\n",
      "1            893         0\n",
      "2            894         0\n",
      "3            895         0\n",
      "4            896         0\n",
      "..           ...       ...\n",
      "413         1305         0\n",
      "414         1306         1\n",
      "415         1307         0\n",
      "416         1308         0\n",
      "417         1309         0\n",
      "\n",
      "[418 rows x 2 columns]\n"
     ]
    }
   ],
   "source": [
    "print(submission)"
   ]
  },
  {
   "cell_type": "code",
   "execution_count": 39,
   "metadata": {
    "execution": {
     "iopub.execute_input": "2024-02-29T14:17:25.232408Z",
     "iopub.status.busy": "2024-02-29T14:17:25.231809Z",
     "iopub.status.idle": "2024-02-29T14:17:25.241707Z",
     "shell.execute_reply": "2024-02-29T14:17:25.240343Z",
     "shell.execute_reply.started": "2024-02-29T14:17:25.232345Z"
    }
   },
   "outputs": [
    {
     "name": "stdout",
     "output_type": "stream",
     "text": [
      "Your submission was successfully saved!\n"
     ]
    }
   ],
   "source": [
    "submission.to_csv('submission.csv', index=False)\n",
    "print(\"Your submission was successfully saved!\")"
   ]
  },
  {
   "cell_type": "markdown",
   "metadata": {},
   "source": [
    "Make sure that your notebook outputs the same message above (`Your submission was successfully saved!`) before moving on.\n",
    "> Again, don't worry if this code doesn't make sense to you!  For now, we'll focus on how to generate and submit predictions.\n",
    "\n",
    "Once you're ready, click on the **\"Save Version\"** button in the top right corner of your notebook.  This will generate a pop-up window.  \n",
    "- Ensure that the **\"Save and Run All\"** option is selected, and then click on the **\"Save\"** button.\n",
    "- This generates a window in the bottom left corner of the notebook.  After it has finished running, click on the number to the right of the **\"Save Version\"** button.  This pulls up a list of versions on the right of the screen.  Click on the ellipsis **(...)** to the right of the most recent version, and select **Open in Viewer**.  \n",
    "- Click on the **Data** tab on the top of the screen.  Then, click on the **\"Submit\"** button to submit your results.\n",
    "\n",
    "![](https://i.imgur.com/1ocaUl4.png)\n",
    "\n",
    "Congratulations for making your first submission to a Kaggle competition!  Within ten minutes, you should receive a message providing your spot on the leaderboard.  Great work!"
   ]
  },
  {
   "cell_type": "markdown",
   "metadata": {},
   "source": [
    "# Part 4: Learn more!\n",
    "\n",
    "If you're interested in learning more, we strongly suggest our (3-hour) **[Intro to Machine Learning](https://www.kaggle.com/learn/intro-to-machine-learning)** course, which will help you fully understand all of the code that we've presented here.  You'll also know enough to generate even better predictions!"
   ]
  }
 ],
 "metadata": {
  "kaggle": {
   "accelerator": "none",
   "dataSources": [
    {
     "databundleVersionId": 26502,
     "sourceId": 3136,
     "sourceType": "competition"
    }
   ],
   "dockerImageVersionId": 29507,
   "isGpuEnabled": false,
   "isInternetEnabled": false,
   "language": "python",
   "sourceType": "notebook"
  },
  "kernelspec": {
   "display_name": "Python 3",
   "language": "python",
   "name": "python3"
  },
  "language_info": {
   "codemirror_mode": {
    "name": "ipython",
    "version": 3
   },
   "file_extension": ".py",
   "mimetype": "text/x-python",
   "name": "python",
   "nbconvert_exporter": "python",
   "pygments_lexer": "ipython3",
   "version": "3.6.6"
  }
 },
 "nbformat": 4,
 "nbformat_minor": 4
}
